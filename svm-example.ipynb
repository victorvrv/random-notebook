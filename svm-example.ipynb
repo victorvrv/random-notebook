{
 "cells": [
  {
   "cell_type": "code",
   "execution_count": 1,
   "metadata": {},
   "outputs": [],
   "source": [
    "import numpy as np\n",
    "from sklearn import datasets\n",
    "from sklearn.preprocessing import StandardScaler\n",
    "from sklearn.svm import LinearSVC\n",
    "import matplotlib.pyplot as plt\n",
    "\n",
    "def plot_decision_boundary(clf, axes):\n",
    "    x1 = np.linspace(axes[0], axes[1], 100)\n",
    "    x2 = np.linspace(axes[2], axes[3], 100)\n",
    "    \n",
    "    x1_mesh, x2_mesh = np.meshgrid(x1, x2)\n",
    "    x1_x2 = np.c_[x1_mesh.ravel(), x2_mesh.ravel()]\n",
    "    \n",
    "    grid_prediction = clf.predict(x1_x2).reshape(x1_mesh.shape)\n",
    "    plt.contourf(x1_mesh, x2_mesh, grid_prediction, alpha=0.3)\n",
    "    \n",
    "def plot_dataset(X, y, axes):\n",
    "    plt.plot(X[:, 0][y==0], X[:, 1][y==0], \"bs\")\n",
    "    plt.plot(X[:, 0][y==1], X[:, 1][y==1], \"g^\")\n",
    "    plt.axis(axes)\n",
    "    plt.grid(True, which='both')\n",
    "    \n",
    "def get_linearly_separable_iris_data(scale=True):\n",
    "    iris = datasets.load_iris()\n",
    "    X = iris['data'][:, (2, 3)]\n",
    "    y = (iris['target'] == 2).astype(np.float64)\n",
    "    idx = []\n",
    "    \n",
    "    # making sure the data is linearly separable so we can fit a hard-margin svm\n",
    "    for i, x in enumerate(X):\n",
    "        if y[i] != 0 or x[0] < 4.2:\n",
    "            idx.append(i)\n",
    "    \n",
    "    X, y = X[idx], y[idx]\n",
    "    \n",
    "    if scale:\n",
    "        scaler = StandardScaler()\n",
    "        X = scaler.fit_transform(X)\n",
    "            \n",
    "    return X, y"
   ]
  },
  {
   "cell_type": "code",
   "execution_count": 12,
   "metadata": {},
   "outputs": [
    {
     "name": "stdout",
     "output_type": "stream",
     "text": [
      "[2.18464802 2.27591335]\n"
     ]
    },
    {
     "data": {
      "image/png": "[encoded data removed]",
      "text/plain": [
       "<Figure size 720x576 with 1 Axes>"
      ]
     },
     "metadata": {
      "needs_background": "light"
     },
     "output_type": "display_data"
    }
   ],
   "source": [
    "iris = datasets.load_iris()\n",
    "\n",
    "X, y = get_linearly_separable_iris_data()\n",
    "\n",
    "axes = [-2, 2, -1.5, 2]\n",
    "\n",
    "# C big to force hard-margin SVM\n",
    "linear_clf = LinearSVC(loss='hinge', C=1000000)\n",
    "linear_clf.fit(X, y)\n",
    "\n",
    "plt.figure(figsize=(10, 8))\n",
    "plot_decision_boundary(linear_clf, axes)\n",
    "plot_dataset(X, y, axes)\n",
    "\n",
    "b = linear_clf.intercept_[0]\n",
    "w = linear_clf.coef_[0]\n",
    "\n",
    "# picks a random point to try\n",
    "xi, yi = X[51], y[51]\n",
    "\n",
    "# highlights the chosen point\n",
    "plt.scatter([xi[0]], [xi[1]], c='orange', alpha=0.7, s=280)\n",
    "\n",
    "ti = 1 if yi == 0 else -1\n",
    "gamma = ti * (w.T @ xi + b)\n",
    "xi_line = xi - gamma * w / np.linalg.norm(w)\n",
    "\n",
    "plt.scatter(xi_line[0], xi_line[1], c='k') \n",
    "print(xi_line) # [2.18464802 2.27591335] far from line"
   ]
  }
 ],
 "metadata": {
  "kernelspec": {
   "display_name": "Python 3",
   "language": "python",
   "name": "python3"
  },
  "language_info": {
   "codemirror_mode": {
    "name": "ipython",
    "version": 3
   },
   "file_extension": ".py",
   "mimetype": "text/x-python",
   "name": "python",
   "nbconvert_exporter": "python",
   "pygments_lexer": "ipython3",
   "version": "3.7.6"
  }
 },
 "nbformat": 4,
 "nbformat_minor": 2
}
